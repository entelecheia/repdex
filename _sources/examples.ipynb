{
 "cells": [
  {
   "cell_type": "markdown",
   "id": "3f0620e7",
   "metadata": {},
   "source": [
    "# Examples\n",
    "\n",
    "This page contains a few examples of how you can use Repdex package.\n",
    "\n",
    "## Installation\n",
    "\n",
    "You can install Repdex using `pip`:"
   ]
  },
  {
   "cell_type": "code",
   "execution_count": 1,
   "id": "0cc891ca",
   "metadata": {},
   "outputs": [
    {
     "name": "stdout",
     "output_type": "stream",
     "text": [
      "Requirement already satisfied: repdex in /opt/hostedtoolcache/Python/3.9.21/x64/lib/python3.9/site-packages (0.0.0)\r\n",
      "Requirement already satisfied: click>=8.1.7 in /opt/hostedtoolcache/Python/3.9.21/x64/lib/python3.9/site-packages (from repdex) (8.1.7)\r\n",
      "Requirement already satisfied: guardrails-ai>=0.5.15 in /opt/hostedtoolcache/Python/3.9.21/x64/lib/python3.9/site-packages (from repdex) (0.6.3)\r\n"
     ]
    },
    {
     "name": "stdout",
     "output_type": "stream",
     "text": [
      "Requirement already satisfied: hyfi>=1.37.0 in /opt/hostedtoolcache/Python/3.9.21/x64/lib/python3.9/site-packages (from repdex) (1.37.0)\r\n",
      "Requirement already satisfied: langchain-community>=0.3.18 in /opt/hostedtoolcache/Python/3.9.21/x64/lib/python3.9/site-packages (from repdex) (0.3.18)\r\n",
      "Requirement already satisfied: langchain-openai>=0.3.6 in /opt/hostedtoolcache/Python/3.9.21/x64/lib/python3.9/site-packages (from repdex) (0.3.7)\r\n",
      "Requirement already satisfied: langchain>=0.3.19 in /opt/hostedtoolcache/Python/3.9.21/x64/lib/python3.9/site-packages (from repdex) (0.3.19)\r\n",
      "Requirement already satisfied: nltk>=3.8.1 in /opt/hostedtoolcache/Python/3.9.21/x64/lib/python3.9/site-packages (from repdex) (3.9.1)\r\n",
      "Requirement already satisfied: openai>=1.64.0 in /opt/hostedtoolcache/Python/3.9.21/x64/lib/python3.9/site-packages (from repdex) (1.64.0)\r\n",
      "Requirement already satisfied: scikit-learn>=1.6.1 in /opt/hostedtoolcache/Python/3.9.21/x64/lib/python3.9/site-packages (from repdex) (1.6.1)\r\n",
      "Requirement already satisfied: boto3<2,>1 in /opt/hostedtoolcache/Python/3.9.21/x64/lib/python3.9/site-packages (from guardrails-ai>=0.5.15->repdex) (1.37.1)\r\n",
      "Requirement already satisfied: coloredlogs<16.0.0,>=15.0.1 in /opt/hostedtoolcache/Python/3.9.21/x64/lib/python3.9/site-packages (from guardrails-ai>=0.5.15->repdex) (15.0.1)\r\n",
      "Requirement already satisfied: diff-match-patch<20230431,>=20230430 in /opt/hostedtoolcache/Python/3.9.21/x64/lib/python3.9/site-packages (from guardrails-ai>=0.5.15->repdex) (20230430)\r\n",
      "Requirement already satisfied: faker<26.0.0,>=25.2.0 in /opt/hostedtoolcache/Python/3.9.21/x64/lib/python3.9/site-packages (from guardrails-ai>=0.5.15->repdex) (25.9.2)\r\n",
      "Requirement already satisfied: griffe<0.37.0,>=0.36.9 in /opt/hostedtoolcache/Python/3.9.21/x64/lib/python3.9/site-packages (from guardrails-ai>=0.5.15->repdex) (0.36.9)\r\n",
      "Requirement already satisfied: guardrails-api-client<0.5.0,>=0.4.0a1 in /opt/hostedtoolcache/Python/3.9.21/x64/lib/python3.9/site-packages (from guardrails-ai>=0.5.15->repdex) (0.4.0a1)\r\n",
      "Requirement already satisfied: guardrails-hub-types<0.0.5,>=0.0.4 in /opt/hostedtoolcache/Python/3.9.21/x64/lib/python3.9/site-packages (from guardrails-ai>=0.5.15->repdex) (0.0.4)\r\n",
      "Requirement already satisfied: jsonref<2.0.0,>=1.1.0 in /opt/hostedtoolcache/Python/3.9.21/x64/lib/python3.9/site-packages (from guardrails-ai>=0.5.15->repdex) (1.1.0)\r\n",
      "Requirement already satisfied: jsonschema<5.0.0,>=4.22.0 in /opt/hostedtoolcache/Python/3.9.21/x64/lib/python3.9/site-packages (from jsonschema[format]<5.0.0,>=4.22.0->guardrails-ai>=0.5.15->repdex) (4.23.0)\r\n",
      "Requirement already satisfied: langchain-core<0.4,>=0.1 in /opt/hostedtoolcache/Python/3.9.21/x64/lib/python3.9/site-packages (from guardrails-ai>=0.5.15->repdex) (0.3.40)\r\n",
      "Requirement already satisfied: litellm<2.0.0,>=1.37.14 in /opt/hostedtoolcache/Python/3.9.21/x64/lib/python3.9/site-packages (from guardrails-ai>=0.5.15->repdex) (1.61.16)\r\n",
      "Requirement already satisfied: lxml<5.0.0,>=4.9.3 in /opt/hostedtoolcache/Python/3.9.21/x64/lib/python3.9/site-packages (from guardrails-ai>=0.5.15->repdex) (4.9.4)\r\n",
      "Requirement already satisfied: opentelemetry-exporter-otlp-proto-grpc<2.0.0,>=1.24.0 in /opt/hostedtoolcache/Python/3.9.21/x64/lib/python3.9/site-packages (from guardrails-ai>=0.5.15->repdex) (1.30.0)\r\n",
      "Requirement already satisfied: opentelemetry-exporter-otlp-proto-http<2.0.0,>=1.24.0 in /opt/hostedtoolcache/Python/3.9.21/x64/lib/python3.9/site-packages (from guardrails-ai>=0.5.15->repdex) (1.30.0)\r\n",
      "Requirement already satisfied: opentelemetry-sdk<2.0.0,>=1.24.0 in /opt/hostedtoolcache/Python/3.9.21/x64/lib/python3.9/site-packages (from guardrails-ai>=0.5.15->repdex) (1.30.0)\r\n",
      "Requirement already satisfied: pip>=22 in /opt/hostedtoolcache/Python/3.9.21/x64/lib/python3.9/site-packages (from guardrails-ai>=0.5.15->repdex) (25.0.1)\r\n",
      "Requirement already satisfied: pydantic<3.0,>=2.0.0 in /opt/hostedtoolcache/Python/3.9.21/x64/lib/python3.9/site-packages (from guardrails-ai>=0.5.15->repdex) (2.10.6)\r\n",
      "Requirement already satisfied: pydash<8.0.0,>=7.0.6 in /opt/hostedtoolcache/Python/3.9.21/x64/lib/python3.9/site-packages (from guardrails-ai>=0.5.15->repdex) (7.0.7)\r\n",
      "Requirement already satisfied: pyjwt<3.0.0,>=2.8.0 in /opt/hostedtoolcache/Python/3.9.21/x64/lib/python3.9/site-packages (from guardrails-ai>=0.5.15->repdex) (2.10.1)\r\n",
      "Requirement already satisfied: python-dateutil<3.0.0,>=2.8.2 in /opt/hostedtoolcache/Python/3.9.21/x64/lib/python3.9/site-packages (from guardrails-ai>=0.5.15->repdex) (2.9.0.post0)\r\n",
      "Requirement already satisfied: requests<3.0.0,>=2.31.0 in /opt/hostedtoolcache/Python/3.9.21/x64/lib/python3.9/site-packages (from guardrails-ai>=0.5.15->repdex) (2.32.3)\r\n",
      "Requirement already satisfied: rich<14.0.0,>=13.6.0 in /opt/hostedtoolcache/Python/3.9.21/x64/lib/python3.9/site-packages (from guardrails-ai>=0.5.15->repdex) (13.9.4)\r\n",
      "Requirement already satisfied: rstr<4.0.0,>=3.2.2 in /opt/hostedtoolcache/Python/3.9.21/x64/lib/python3.9/site-packages (from guardrails-ai>=0.5.15->repdex) (3.2.2)\r\n",
      "Requirement already satisfied: semver<4.0.0,>=3.0.2 in /opt/hostedtoolcache/Python/3.9.21/x64/lib/python3.9/site-packages (from guardrails-ai>=0.5.15->repdex) (3.0.4)\r\n",
      "Requirement already satisfied: tenacity>=8.1.0 in /opt/hostedtoolcache/Python/3.9.21/x64/lib/python3.9/site-packages (from guardrails-ai>=0.5.15->repdex) (9.0.0)\r\n",
      "Requirement already satisfied: tiktoken>=0.5.1 in /opt/hostedtoolcache/Python/3.9.21/x64/lib/python3.9/site-packages (from guardrails-ai>=0.5.15->repdex) (0.9.0)\r\n",
      "Requirement already satisfied: typer<0.16,>=0.9.0 in /opt/hostedtoolcache/Python/3.9.21/x64/lib/python3.9/site-packages (from typer[all]<0.16,>=0.9.0->guardrails-ai>=0.5.15->repdex) (0.15.1)\r\n",
      "Requirement already satisfied: typing-extensions<5.0.0,>=4.8.0 in /opt/hostedtoolcache/Python/3.9.21/x64/lib/python3.9/site-packages (from guardrails-ai>=0.5.15->repdex) (4.12.2)\r\n",
      "Requirement already satisfied: chardet<=5.2.0 in /opt/hostedtoolcache/Python/3.9.21/x64/lib/python3.9/site-packages (from hyfi>=1.37.0->repdex) (5.2.0)\r\n",
      "Requirement already satisfied: colorama<0.5.0,>=0.4.3 in /opt/hostedtoolcache/Python/3.9.21/x64/lib/python3.9/site-packages (from hyfi>=1.37.0->repdex) (0.4.6)\r\n",
      "Requirement already satisfied: datasets<=2.21.0,>=2.0.0 in /opt/hostedtoolcache/Python/3.9.21/x64/lib/python3.9/site-packages (from hyfi>=1.37.0->repdex) (2.21.0)\r\n",
      "Requirement already satisfied: gdown<=5.2.0 in /opt/hostedtoolcache/Python/3.9.21/x64/lib/python3.9/site-packages (from hyfi>=1.37.0->repdex) (5.2.0)\r\n",
      "Requirement already satisfied: hydra-colorlog<2.0.0,>=1.2.0 in /opt/hostedtoolcache/Python/3.9.21/x64/lib/python3.9/site-packages (from hyfi>=1.37.0->repdex) (1.2.0)\r\n",
      "Requirement already satisfied: hydra-core<2.0.0,>=1.3.2 in /opt/hostedtoolcache/Python/3.9.21/x64/lib/python3.9/site-packages (from hyfi>=1.37.0->repdex) (1.3.2)\r\n",
      "Requirement already satisfied: joblib<=1.4.2,>=1.2.0 in /opt/hostedtoolcache/Python/3.9.21/x64/lib/python3.9/site-packages (from hyfi>=1.37.0->repdex) (1.4.2)\r\n",
      "Requirement already satisfied: matplotlib<=3.9.2 in /opt/hostedtoolcache/Python/3.9.21/x64/lib/python3.9/site-packages (from hyfi>=1.37.0->repdex) (3.9.2)\r\n",
      "Requirement already satisfied: numpy<=2.0.2,>=1.26.0 in /opt/hostedtoolcache/Python/3.9.21/x64/lib/python3.9/site-packages (from hyfi>=1.37.0->repdex) (1.26.4)\r\n",
      "Requirement already satisfied: pandas<=2.2.2,>=1.5.3 in /opt/hostedtoolcache/Python/3.9.21/x64/lib/python3.9/site-packages (from hyfi>=1.37.0->repdex) (2.2.2)\r\n",
      "Requirement already satisfied: pathspec>=0.9.0 in /opt/hostedtoolcache/Python/3.9.21/x64/lib/python3.9/site-packages (from hyfi>=1.37.0->repdex) (0.12.1)\r\n",
      "Requirement already satisfied: pyarrow<=17.0.0 in /opt/hostedtoolcache/Python/3.9.21/x64/lib/python3.9/site-packages (from hyfi>=1.37.0->repdex) (17.0.0)\r\n"
     ]
    },
    {
     "name": "stdout",
     "output_type": "stream",
     "text": [
      "Requirement already satisfied: pydantic-settings<3.0.0,>=2.0.1 in /opt/hostedtoolcache/Python/3.9.21/x64/lib/python3.9/site-packages (from hyfi>=1.37.0->repdex) (2.8.0)\r\n",
      "Requirement already satisfied: python-dotenv<2.0.0,>=1.0.0 in /opt/hostedtoolcache/Python/3.9.21/x64/lib/python3.9/site-packages (from hyfi>=1.37.0->repdex) (1.0.1)\r\n",
      "Requirement already satisfied: scipy<=1.13.1,>1.10.0 in /opt/hostedtoolcache/Python/3.9.21/x64/lib/python3.9/site-packages (from hyfi>=1.37.0->repdex) (1.13.1)\r\n",
      "Requirement already satisfied: tqdm<5.0.0,>=4.64.1 in /opt/hostedtoolcache/Python/3.9.21/x64/lib/python3.9/site-packages (from hyfi>=1.37.0->repdex) (4.67.1)\r\n",
      "Requirement already satisfied: langchain-text-splitters<1.0.0,>=0.3.6 in /opt/hostedtoolcache/Python/3.9.21/x64/lib/python3.9/site-packages (from langchain>=0.3.19->repdex) (0.3.6)\r\n",
      "Requirement already satisfied: langsmith<0.4,>=0.1.17 in /opt/hostedtoolcache/Python/3.9.21/x64/lib/python3.9/site-packages (from langchain>=0.3.19->repdex) (0.3.11)\r\n",
      "Requirement already satisfied: SQLAlchemy<3,>=1.4 in /opt/hostedtoolcache/Python/3.9.21/x64/lib/python3.9/site-packages (from langchain>=0.3.19->repdex) (2.0.38)\r\n",
      "Requirement already satisfied: PyYAML>=5.3 in /opt/hostedtoolcache/Python/3.9.21/x64/lib/python3.9/site-packages (from langchain>=0.3.19->repdex) (6.0.2)\r\n",
      "Requirement already satisfied: aiohttp<4.0.0,>=3.8.3 in /opt/hostedtoolcache/Python/3.9.21/x64/lib/python3.9/site-packages (from langchain>=0.3.19->repdex) (3.11.13)\r\n",
      "Requirement already satisfied: async-timeout<5.0.0,>=4.0.0 in /opt/hostedtoolcache/Python/3.9.21/x64/lib/python3.9/site-packages (from langchain>=0.3.19->repdex) (4.0.3)\r\n",
      "Requirement already satisfied: dataclasses-json<0.7,>=0.5.7 in /opt/hostedtoolcache/Python/3.9.21/x64/lib/python3.9/site-packages (from langchain-community>=0.3.18->repdex) (0.6.7)\r\n",
      "Requirement already satisfied: httpx-sse<1.0.0,>=0.4.0 in /opt/hostedtoolcache/Python/3.9.21/x64/lib/python3.9/site-packages (from langchain-community>=0.3.18->repdex) (0.4.0)\r\n",
      "Requirement already satisfied: regex>=2021.8.3 in /opt/hostedtoolcache/Python/3.9.21/x64/lib/python3.9/site-packages (from nltk>=3.8.1->repdex) (2024.11.6)\r\n",
      "Requirement already satisfied: anyio<5,>=3.5.0 in /opt/hostedtoolcache/Python/3.9.21/x64/lib/python3.9/site-packages (from openai>=1.64.0->repdex) (4.8.0)\r\n",
      "Requirement already satisfied: distro<2,>=1.7.0 in /opt/hostedtoolcache/Python/3.9.21/x64/lib/python3.9/site-packages (from openai>=1.64.0->repdex) (1.9.0)\r\n",
      "Requirement already satisfied: httpx<1,>=0.23.0 in /opt/hostedtoolcache/Python/3.9.21/x64/lib/python3.9/site-packages (from openai>=1.64.0->repdex) (0.28.1)\r\n",
      "Requirement already satisfied: jiter<1,>=0.4.0 in /opt/hostedtoolcache/Python/3.9.21/x64/lib/python3.9/site-packages (from openai>=1.64.0->repdex) (0.8.2)\r\n",
      "Requirement already satisfied: sniffio in /opt/hostedtoolcache/Python/3.9.21/x64/lib/python3.9/site-packages (from openai>=1.64.0->repdex) (1.3.1)\r\n"
     ]
    },
    {
     "name": "stdout",
     "output_type": "stream",
     "text": [
      "Requirement already satisfied: threadpoolctl>=3.1.0 in /opt/hostedtoolcache/Python/3.9.21/x64/lib/python3.9/site-packages (from scikit-learn>=1.6.1->repdex) (3.5.0)\r\n",
      "Requirement already satisfied: aiohappyeyeballs>=2.3.0 in /opt/hostedtoolcache/Python/3.9.21/x64/lib/python3.9/site-packages (from aiohttp<4.0.0,>=3.8.3->langchain>=0.3.19->repdex) (2.4.6)\r\n",
      "Requirement already satisfied: aiosignal>=1.1.2 in /opt/hostedtoolcache/Python/3.9.21/x64/lib/python3.9/site-packages (from aiohttp<4.0.0,>=3.8.3->langchain>=0.3.19->repdex) (1.3.2)\r\n",
      "Requirement already satisfied: attrs>=17.3.0 in /opt/hostedtoolcache/Python/3.9.21/x64/lib/python3.9/site-packages (from aiohttp<4.0.0,>=3.8.3->langchain>=0.3.19->repdex) (25.1.0)\r\n",
      "Requirement already satisfied: frozenlist>=1.1.1 in /opt/hostedtoolcache/Python/3.9.21/x64/lib/python3.9/site-packages (from aiohttp<4.0.0,>=3.8.3->langchain>=0.3.19->repdex) (1.5.0)\r\n",
      "Requirement already satisfied: multidict<7.0,>=4.5 in /opt/hostedtoolcache/Python/3.9.21/x64/lib/python3.9/site-packages (from aiohttp<4.0.0,>=3.8.3->langchain>=0.3.19->repdex) (6.1.0)\r\n",
      "Requirement already satisfied: propcache>=0.2.0 in /opt/hostedtoolcache/Python/3.9.21/x64/lib/python3.9/site-packages (from aiohttp<4.0.0,>=3.8.3->langchain>=0.3.19->repdex) (0.3.0)\r\n",
      "Requirement already satisfied: yarl<2.0,>=1.17.0 in /opt/hostedtoolcache/Python/3.9.21/x64/lib/python3.9/site-packages (from aiohttp<4.0.0,>=3.8.3->langchain>=0.3.19->repdex) (1.18.3)\r\n",
      "Requirement already satisfied: exceptiongroup>=1.0.2 in /opt/hostedtoolcache/Python/3.9.21/x64/lib/python3.9/site-packages (from anyio<5,>=3.5.0->openai>=1.64.0->repdex) (1.2.2)\r\n",
      "Requirement already satisfied: idna>=2.8 in /opt/hostedtoolcache/Python/3.9.21/x64/lib/python3.9/site-packages (from anyio<5,>=3.5.0->openai>=1.64.0->repdex) (3.10)\r\n",
      "Requirement already satisfied: botocore<1.38.0,>=1.37.1 in /opt/hostedtoolcache/Python/3.9.21/x64/lib/python3.9/site-packages (from boto3<2,>1->guardrails-ai>=0.5.15->repdex) (1.37.1)\r\n",
      "Requirement already satisfied: jmespath<2.0.0,>=0.7.1 in /opt/hostedtoolcache/Python/3.9.21/x64/lib/python3.9/site-packages (from boto3<2,>1->guardrails-ai>=0.5.15->repdex) (1.0.1)\r\n",
      "Requirement already satisfied: s3transfer<0.12.0,>=0.11.0 in /opt/hostedtoolcache/Python/3.9.21/x64/lib/python3.9/site-packages (from boto3<2,>1->guardrails-ai>=0.5.15->repdex) (0.11.2)\r\n",
      "Requirement already satisfied: humanfriendly>=9.1 in /opt/hostedtoolcache/Python/3.9.21/x64/lib/python3.9/site-packages (from coloredlogs<16.0.0,>=15.0.1->guardrails-ai>=0.5.15->repdex) (10.0)\r\n",
      "Requirement already satisfied: marshmallow<4.0.0,>=3.18.0 in /opt/hostedtoolcache/Python/3.9.21/x64/lib/python3.9/site-packages (from dataclasses-json<0.7,>=0.5.7->langchain-community>=0.3.18->repdex) (3.26.1)\r\n",
      "Requirement already satisfied: typing-inspect<1,>=0.4.0 in /opt/hostedtoolcache/Python/3.9.21/x64/lib/python3.9/site-packages (from dataclasses-json<0.7,>=0.5.7->langchain-community>=0.3.18->repdex) (0.9.0)\r\n"
     ]
    },
    {
     "name": "stdout",
     "output_type": "stream",
     "text": [
      "Requirement already satisfied: filelock in /opt/hostedtoolcache/Python/3.9.21/x64/lib/python3.9/site-packages (from datasets<=2.21.0,>=2.0.0->hyfi>=1.37.0->repdex) (3.17.0)\r\n",
      "Requirement already satisfied: dill<0.3.9,>=0.3.0 in /opt/hostedtoolcache/Python/3.9.21/x64/lib/python3.9/site-packages (from datasets<=2.21.0,>=2.0.0->hyfi>=1.37.0->repdex) (0.3.8)\r\n",
      "Requirement already satisfied: xxhash in /opt/hostedtoolcache/Python/3.9.21/x64/lib/python3.9/site-packages (from datasets<=2.21.0,>=2.0.0->hyfi>=1.37.0->repdex) (3.5.0)\r\n",
      "Requirement already satisfied: multiprocess in /opt/hostedtoolcache/Python/3.9.21/x64/lib/python3.9/site-packages (from datasets<=2.21.0,>=2.0.0->hyfi>=1.37.0->repdex) (0.70.16)\r\n",
      "Requirement already satisfied: fsspec<=2024.6.1,>=2023.1.0 in /opt/hostedtoolcache/Python/3.9.21/x64/lib/python3.9/site-packages (from fsspec[http]<=2024.6.1,>=2023.1.0->datasets<=2.21.0,>=2.0.0->hyfi>=1.37.0->repdex) (2024.6.1)\r\n",
      "Requirement already satisfied: huggingface-hub>=0.21.2 in /opt/hostedtoolcache/Python/3.9.21/x64/lib/python3.9/site-packages (from datasets<=2.21.0,>=2.0.0->hyfi>=1.37.0->repdex) (0.29.1)\r\n",
      "Requirement already satisfied: packaging in /opt/hostedtoolcache/Python/3.9.21/x64/lib/python3.9/site-packages (from datasets<=2.21.0,>=2.0.0->hyfi>=1.37.0->repdex) (24.2)\r\n"
     ]
    },
    {
     "name": "stdout",
     "output_type": "stream",
     "text": [
      "Requirement already satisfied: beautifulsoup4 in /opt/hostedtoolcache/Python/3.9.21/x64/lib/python3.9/site-packages (from gdown<=5.2.0->hyfi>=1.37.0->repdex) (4.13.3)\r\n",
      "Requirement already satisfied: setuptools>=21.0.0 in /opt/hostedtoolcache/Python/3.9.21/x64/lib/python3.9/site-packages (from guardrails-api-client<0.5.0,>=0.4.0a1->guardrails-ai>=0.5.15->repdex) (58.1.0)\r\n",
      "Requirement already satisfied: urllib3<2.1.0,>=1.25.3 in /opt/hostedtoolcache/Python/3.9.21/x64/lib/python3.9/site-packages (from guardrails-api-client<0.5.0,>=0.4.0a1->guardrails-ai>=0.5.15->repdex) (1.26.20)\r\n",
      "Requirement already satisfied: certifi in /opt/hostedtoolcache/Python/3.9.21/x64/lib/python3.9/site-packages (from httpx<1,>=0.23.0->openai>=1.64.0->repdex) (2025.1.31)\r\n",
      "Requirement already satisfied: httpcore==1.* in /opt/hostedtoolcache/Python/3.9.21/x64/lib/python3.9/site-packages (from httpx<1,>=0.23.0->openai>=1.64.0->repdex) (1.0.7)\r\n",
      "Requirement already satisfied: h11<0.15,>=0.13 in /opt/hostedtoolcache/Python/3.9.21/x64/lib/python3.9/site-packages (from httpcore==1.*->httpx<1,>=0.23.0->openai>=1.64.0->repdex) (0.14.0)\r\n",
      "Requirement already satisfied: colorlog in /opt/hostedtoolcache/Python/3.9.21/x64/lib/python3.9/site-packages (from hydra-colorlog<2.0.0,>=1.2.0->hyfi>=1.37.0->repdex) (6.9.0)\r\n",
      "Requirement already satisfied: omegaconf<2.4,>=2.2 in /opt/hostedtoolcache/Python/3.9.21/x64/lib/python3.9/site-packages (from hydra-core<2.0.0,>=1.3.2->hyfi>=1.37.0->repdex) (2.3.0)\r\n",
      "Requirement already satisfied: antlr4-python3-runtime==4.9.* in /opt/hostedtoolcache/Python/3.9.21/x64/lib/python3.9/site-packages (from hydra-core<2.0.0,>=1.3.2->hyfi>=1.37.0->repdex) (4.9.3)\r\n",
      "Requirement already satisfied: jsonschema-specifications>=2023.03.6 in /opt/hostedtoolcache/Python/3.9.21/x64/lib/python3.9/site-packages (from jsonschema<5.0.0,>=4.22.0->jsonschema[format]<5.0.0,>=4.22.0->guardrails-ai>=0.5.15->repdex) (2024.10.1)\r\n",
      "Requirement already satisfied: referencing>=0.28.4 in /opt/hostedtoolcache/Python/3.9.21/x64/lib/python3.9/site-packages (from jsonschema<5.0.0,>=4.22.0->jsonschema[format]<5.0.0,>=4.22.0->guardrails-ai>=0.5.15->repdex) (0.36.2)\r\n",
      "Requirement already satisfied: rpds-py>=0.7.1 in /opt/hostedtoolcache/Python/3.9.21/x64/lib/python3.9/site-packages (from jsonschema<5.0.0,>=4.22.0->jsonschema[format]<5.0.0,>=4.22.0->guardrails-ai>=0.5.15->repdex) (0.23.1)\r\n",
      "Requirement already satisfied: fqdn in /opt/hostedtoolcache/Python/3.9.21/x64/lib/python3.9/site-packages (from jsonschema[format]<5.0.0,>=4.22.0->guardrails-ai>=0.5.15->repdex) (1.5.1)\r\n",
      "Requirement already satisfied: isoduration in /opt/hostedtoolcache/Python/3.9.21/x64/lib/python3.9/site-packages (from jsonschema[format]<5.0.0,>=4.22.0->guardrails-ai>=0.5.15->repdex) (20.11.0)\r\n",
      "Requirement already satisfied: jsonpointer>1.13 in /opt/hostedtoolcache/Python/3.9.21/x64/lib/python3.9/site-packages (from jsonschema[format]<5.0.0,>=4.22.0->guardrails-ai>=0.5.15->repdex) (3.0.0)\r\n",
      "Requirement already satisfied: rfc3339-validator in /opt/hostedtoolcache/Python/3.9.21/x64/lib/python3.9/site-packages (from jsonschema[format]<5.0.0,>=4.22.0->guardrails-ai>=0.5.15->repdex) (0.1.4)\r\n",
      "Requirement already satisfied: rfc3987 in /opt/hostedtoolcache/Python/3.9.21/x64/lib/python3.9/site-packages (from jsonschema[format]<5.0.0,>=4.22.0->guardrails-ai>=0.5.15->repdex) (1.3.8)\r\n"
     ]
    },
    {
     "name": "stdout",
     "output_type": "stream",
     "text": [
      "Requirement already satisfied: uri-template in /opt/hostedtoolcache/Python/3.9.21/x64/lib/python3.9/site-packages (from jsonschema[format]<5.0.0,>=4.22.0->guardrails-ai>=0.5.15->repdex) (1.3.0)\r\n",
      "Requirement already satisfied: webcolors>=1.11 in /opt/hostedtoolcache/Python/3.9.21/x64/lib/python3.9/site-packages (from jsonschema[format]<5.0.0,>=4.22.0->guardrails-ai>=0.5.15->repdex) (24.11.1)\r\n",
      "Requirement already satisfied: jsonpatch<2.0,>=1.33 in /opt/hostedtoolcache/Python/3.9.21/x64/lib/python3.9/site-packages (from langchain-core<0.4,>=0.1->guardrails-ai>=0.5.15->repdex) (1.33)\r\n",
      "Requirement already satisfied: orjson<4.0.0,>=3.9.14 in /opt/hostedtoolcache/Python/3.9.21/x64/lib/python3.9/site-packages (from langsmith<0.4,>=0.1.17->langchain>=0.3.19->repdex) (3.10.15)\r\n",
      "Requirement already satisfied: requests-toolbelt<2.0.0,>=1.0.0 in /opt/hostedtoolcache/Python/3.9.21/x64/lib/python3.9/site-packages (from langsmith<0.4,>=0.1.17->langchain>=0.3.19->repdex) (1.0.0)\r\n",
      "Requirement already satisfied: zstandard<0.24.0,>=0.23.0 in /opt/hostedtoolcache/Python/3.9.21/x64/lib/python3.9/site-packages (from langsmith<0.4,>=0.1.17->langchain>=0.3.19->repdex) (0.23.0)\r\n",
      "Requirement already satisfied: importlib-metadata>=6.8.0 in /opt/hostedtoolcache/Python/3.9.21/x64/lib/python3.9/site-packages (from litellm<2.0.0,>=1.37.14->guardrails-ai>=0.5.15->repdex) (8.5.0)\r\n",
      "Requirement already satisfied: jinja2<4.0.0,>=3.1.2 in /opt/hostedtoolcache/Python/3.9.21/x64/lib/python3.9/site-packages (from litellm<2.0.0,>=1.37.14->guardrails-ai>=0.5.15->repdex) (3.1.5)\r\n",
      "Requirement already satisfied: tokenizers in /opt/hostedtoolcache/Python/3.9.21/x64/lib/python3.9/site-packages (from litellm<2.0.0,>=1.37.14->guardrails-ai>=0.5.15->repdex) (0.21.0)\r\n",
      "Requirement already satisfied: contourpy>=1.0.1 in /opt/hostedtoolcache/Python/3.9.21/x64/lib/python3.9/site-packages (from matplotlib<=3.9.2->hyfi>=1.37.0->repdex) (1.3.0)\r\n",
      "Requirement already satisfied: cycler>=0.10 in /opt/hostedtoolcache/Python/3.9.21/x64/lib/python3.9/site-packages (from matplotlib<=3.9.2->hyfi>=1.37.0->repdex) (0.12.1)\r\n",
      "Requirement already satisfied: fonttools>=4.22.0 in /opt/hostedtoolcache/Python/3.9.21/x64/lib/python3.9/site-packages (from matplotlib<=3.9.2->hyfi>=1.37.0->repdex) (4.56.0)\r\n",
      "Requirement already satisfied: kiwisolver>=1.3.1 in /opt/hostedtoolcache/Python/3.9.21/x64/lib/python3.9/site-packages (from matplotlib<=3.9.2->hyfi>=1.37.0->repdex) (1.4.7)\r\n",
      "Requirement already satisfied: pillow>=8 in /opt/hostedtoolcache/Python/3.9.21/x64/lib/python3.9/site-packages (from matplotlib<=3.9.2->hyfi>=1.37.0->repdex) (11.1.0)\r\n",
      "Requirement already satisfied: pyparsing>=2.3.1 in /opt/hostedtoolcache/Python/3.9.21/x64/lib/python3.9/site-packages (from matplotlib<=3.9.2->hyfi>=1.37.0->repdex) (3.2.1)\r\n",
      "Requirement already satisfied: importlib-resources>=3.2.0 in /opt/hostedtoolcache/Python/3.9.21/x64/lib/python3.9/site-packages (from matplotlib<=3.9.2->hyfi>=1.37.0->repdex) (6.5.2)\r\n",
      "Requirement already satisfied: deprecated>=1.2.6 in /opt/hostedtoolcache/Python/3.9.21/x64/lib/python3.9/site-packages (from opentelemetry-exporter-otlp-proto-grpc<2.0.0,>=1.24.0->guardrails-ai>=0.5.15->repdex) (1.2.18)\r\n"
     ]
    },
    {
     "name": "stdout",
     "output_type": "stream",
     "text": [
      "Requirement already satisfied: googleapis-common-protos~=1.52 in /opt/hostedtoolcache/Python/3.9.21/x64/lib/python3.9/site-packages (from opentelemetry-exporter-otlp-proto-grpc<2.0.0,>=1.24.0->guardrails-ai>=0.5.15->repdex) (1.68.0)\r\n",
      "Requirement already satisfied: grpcio<2.0.0,>=1.63.2 in /opt/hostedtoolcache/Python/3.9.21/x64/lib/python3.9/site-packages (from opentelemetry-exporter-otlp-proto-grpc<2.0.0,>=1.24.0->guardrails-ai>=0.5.15->repdex) (1.70.0)\r\n",
      "Requirement already satisfied: opentelemetry-api~=1.15 in /opt/hostedtoolcache/Python/3.9.21/x64/lib/python3.9/site-packages (from opentelemetry-exporter-otlp-proto-grpc<2.0.0,>=1.24.0->guardrails-ai>=0.5.15->repdex) (1.30.0)\r\n",
      "Requirement already satisfied: opentelemetry-exporter-otlp-proto-common==1.30.0 in /opt/hostedtoolcache/Python/3.9.21/x64/lib/python3.9/site-packages (from opentelemetry-exporter-otlp-proto-grpc<2.0.0,>=1.24.0->guardrails-ai>=0.5.15->repdex) (1.30.0)\r\n",
      "Requirement already satisfied: opentelemetry-proto==1.30.0 in /opt/hostedtoolcache/Python/3.9.21/x64/lib/python3.9/site-packages (from opentelemetry-exporter-otlp-proto-grpc<2.0.0,>=1.24.0->guardrails-ai>=0.5.15->repdex) (1.30.0)\r\n",
      "Requirement already satisfied: protobuf<6.0,>=5.0 in /opt/hostedtoolcache/Python/3.9.21/x64/lib/python3.9/site-packages (from opentelemetry-proto==1.30.0->opentelemetry-exporter-otlp-proto-grpc<2.0.0,>=1.24.0->guardrails-ai>=0.5.15->repdex) (5.29.3)\r\n",
      "Requirement already satisfied: opentelemetry-semantic-conventions==0.51b0 in /opt/hostedtoolcache/Python/3.9.21/x64/lib/python3.9/site-packages (from opentelemetry-sdk<2.0.0,>=1.24.0->guardrails-ai>=0.5.15->repdex) (0.51b0)\r\n"
     ]
    },
    {
     "name": "stdout",
     "output_type": "stream",
     "text": [
      "Requirement already satisfied: pytz>=2020.1 in /opt/hostedtoolcache/Python/3.9.21/x64/lib/python3.9/site-packages (from pandas<=2.2.2,>=1.5.3->hyfi>=1.37.0->repdex) (2025.1)\r\n",
      "Requirement already satisfied: tzdata>=2022.7 in /opt/hostedtoolcache/Python/3.9.21/x64/lib/python3.9/site-packages (from pandas<=2.2.2,>=1.5.3->hyfi>=1.37.0->repdex) (2025.1)\r\n",
      "Requirement already satisfied: annotated-types>=0.6.0 in /opt/hostedtoolcache/Python/3.9.21/x64/lib/python3.9/site-packages (from pydantic<3.0,>=2.0.0->guardrails-ai>=0.5.15->repdex) (0.7.0)\r\n",
      "Requirement already satisfied: pydantic-core==2.27.2 in /opt/hostedtoolcache/Python/3.9.21/x64/lib/python3.9/site-packages (from pydantic<3.0,>=2.0.0->guardrails-ai>=0.5.15->repdex) (2.27.2)\r\n",
      "Requirement already satisfied: six>=1.5 in /opt/hostedtoolcache/Python/3.9.21/x64/lib/python3.9/site-packages (from python-dateutil<3.0.0,>=2.8.2->guardrails-ai>=0.5.15->repdex) (1.17.0)\r\n"
     ]
    },
    {
     "name": "stdout",
     "output_type": "stream",
     "text": [
      "Requirement already satisfied: charset-normalizer<4,>=2 in /opt/hostedtoolcache/Python/3.9.21/x64/lib/python3.9/site-packages (from requests<3.0.0,>=2.31.0->guardrails-ai>=0.5.15->repdex) (3.4.1)\r\n",
      "Requirement already satisfied: markdown-it-py>=2.2.0 in /opt/hostedtoolcache/Python/3.9.21/x64/lib/python3.9/site-packages (from rich<14.0.0,>=13.6.0->guardrails-ai>=0.5.15->repdex) (3.0.0)\r\n",
      "Requirement already satisfied: pygments<3.0.0,>=2.13.0 in /opt/hostedtoolcache/Python/3.9.21/x64/lib/python3.9/site-packages (from rich<14.0.0,>=13.6.0->guardrails-ai>=0.5.15->repdex) (2.19.1)\r\n",
      "Requirement already satisfied: greenlet!=0.4.17 in /opt/hostedtoolcache/Python/3.9.21/x64/lib/python3.9/site-packages (from SQLAlchemy<3,>=1.4->langchain>=0.3.19->repdex) (3.1.1)\r\n"
     ]
    },
    {
     "name": "stdout",
     "output_type": "stream",
     "text": [
      "Requirement already satisfied: shellingham>=1.3.0 in /opt/hostedtoolcache/Python/3.9.21/x64/lib/python3.9/site-packages (from typer<0.16,>=0.9.0->typer[all]<0.16,>=0.9.0->guardrails-ai>=0.5.15->repdex) (1.5.4)\r\n",
      "\u001b[33mWARNING: typer 0.15.1 does not provide the extra 'all'\u001b[0m\u001b[33m\r\n",
      "\u001b[0m"
     ]
    },
    {
     "name": "stdout",
     "output_type": "stream",
     "text": [
      "Requirement already satisfied: wrapt<2,>=1.10 in /opt/hostedtoolcache/Python/3.9.21/x64/lib/python3.9/site-packages (from deprecated>=1.2.6->opentelemetry-exporter-otlp-proto-grpc<2.0.0,>=1.24.0->guardrails-ai>=0.5.15->repdex) (1.17.2)\r\n"
     ]
    },
    {
     "name": "stdout",
     "output_type": "stream",
     "text": [
      "Requirement already satisfied: zipp>=3.20 in /opt/hostedtoolcache/Python/3.9.21/x64/lib/python3.9/site-packages (from importlib-metadata>=6.8.0->litellm<2.0.0,>=1.37.14->guardrails-ai>=0.5.15->repdex) (3.21.0)\r\n"
     ]
    },
    {
     "name": "stdout",
     "output_type": "stream",
     "text": [
      "Requirement already satisfied: MarkupSafe>=2.0 in /opt/hostedtoolcache/Python/3.9.21/x64/lib/python3.9/site-packages (from jinja2<4.0.0,>=3.1.2->litellm<2.0.0,>=1.37.14->guardrails-ai>=0.5.15->repdex) (3.0.2)\r\n",
      "Requirement already satisfied: mdurl~=0.1 in /opt/hostedtoolcache/Python/3.9.21/x64/lib/python3.9/site-packages (from markdown-it-py>=2.2.0->rich<14.0.0,>=13.6.0->guardrails-ai>=0.5.15->repdex) (0.1.2)\r\n"
     ]
    },
    {
     "name": "stdout",
     "output_type": "stream",
     "text": [
      "Requirement already satisfied: mypy-extensions>=0.3.0 in /opt/hostedtoolcache/Python/3.9.21/x64/lib/python3.9/site-packages (from typing-inspect<1,>=0.4.0->dataclasses-json<0.7,>=0.5.7->langchain-community>=0.3.18->repdex) (1.0.0)\r\n"
     ]
    },
    {
     "name": "stdout",
     "output_type": "stream",
     "text": [
      "Requirement already satisfied: soupsieve>1.2 in /opt/hostedtoolcache/Python/3.9.21/x64/lib/python3.9/site-packages (from beautifulsoup4->gdown<=5.2.0->hyfi>=1.37.0->repdex) (2.6)\r\n",
      "Requirement already satisfied: arrow>=0.15.0 in /opt/hostedtoolcache/Python/3.9.21/x64/lib/python3.9/site-packages (from isoduration->jsonschema[format]<5.0.0,>=4.22.0->guardrails-ai>=0.5.15->repdex) (1.3.0)\r\n",
      "Requirement already satisfied: PySocks!=1.5.7,>=1.5.6 in /opt/hostedtoolcache/Python/3.9.21/x64/lib/python3.9/site-packages (from requests[socks]->gdown<=5.2.0->hyfi>=1.37.0->repdex) (1.7.1)\r\n"
     ]
    },
    {
     "name": "stdout",
     "output_type": "stream",
     "text": [
      "Requirement already satisfied: types-python-dateutil>=2.8.10 in /opt/hostedtoolcache/Python/3.9.21/x64/lib/python3.9/site-packages (from arrow>=0.15.0->isoduration->jsonschema[format]<5.0.0,>=4.22.0->guardrails-ai>=0.5.15->repdex) (2.9.0.20241206)\r\n"
     ]
    },
    {
     "name": "stdout",
     "output_type": "stream",
     "text": [
      "Note: you may need to restart the kernel to use updated packages.\n"
     ]
    }
   ],
   "source": [
    "pip install repdex"
   ]
  },
  {
   "cell_type": "markdown",
   "id": "d0530389",
   "metadata": {},
   "source": [
    "## Usage\n",
    "\n",
    "```python\n",
    "from repdex import get_version\n",
    "\n",
    "print(get_version())\n",
    "```"
   ]
  }
 ],
 "metadata": {
  "jupytext": {
   "cell_metadata_filter": "-all",
   "formats": "md:myst",
   "text_representation": {
    "extension": ".md",
    "format_name": "myst",
    "format_version": 0.13,
    "jupytext_version": "1.11.5"
   }
  },
  "kernelspec": {
   "display_name": "Python 3",
   "language": "python",
   "name": "python3"
  },
  "language_info": {
   "codemirror_mode": {
    "name": "ipython",
    "version": 3
   },
   "file_extension": ".py",
   "mimetype": "text/x-python",
   "name": "python",
   "nbconvert_exporter": "python",
   "pygments_lexer": "ipython3",
   "version": "3.9.21"
  },
  "source_map": [
   14,
   24,
   26
  ]
 },
 "nbformat": 4,
 "nbformat_minor": 5
}